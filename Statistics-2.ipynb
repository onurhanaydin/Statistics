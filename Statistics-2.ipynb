{
 "cells": [
  {
   "cell_type": "code",
   "execution_count": 39,
   "id": "72d88b61",
   "metadata": {},
   "outputs": [],
   "source": [
    "import scipy as sp\n",
    "%matplotlib inline\n",
    "import numpy as np\n",
    "import pandas as pd\n",
    "from scipy import stats\n",
    "from scipy.stats import kurtosis\n",
    "from scipy.stats import skew"
   ]
  },
  {
   "cell_type": "code",
   "execution_count": null,
   "id": "eb9325eb",
   "metadata": {},
   "outputs": [],
   "source": [
    "# Randomly generate 1000 samples from normak distribution with mean=100, std=15"
   ]
  },
  {
   "cell_type": "code",
   "execution_count": 2,
   "id": "58f10611",
   "metadata": {},
   "outputs": [],
   "source": [
    "df=np.random.normal(100,15,1000)"
   ]
  },
  {
   "cell_type": "code",
   "execution_count": null,
   "id": "c1c39cf7",
   "metadata": {},
   "outputs": [],
   "source": [
    "# Compute mean, median, and mode"
   ]
  },
  {
   "cell_type": "code",
   "execution_count": 23,
   "id": "cb96ff41",
   "metadata": {},
   "outputs": [
    {
     "name": "stdout",
     "output_type": "stream",
     "text": [
      "mean = 100.48522313247128\n",
      "median = 100.36472964707426\n",
      "std = 15.304348036207568\n"
     ]
    }
   ],
   "source": [
    "mean=df.mean()\n",
    "median=np.median(df)\n",
    "std=df.std()\n",
    "\n",
    "print(\"mean = {}\".format(mean))\n",
    "print(\"median = {}\".format(median))\n",
    "print(\"std = {}\".format(std))"
   ]
  },
  {
   "cell_type": "code",
   "execution_count": null,
   "id": "186bac1b",
   "metadata": {},
   "outputs": [],
   "source": [
    "# Compute min, max, Q1, Q3 and interquartile range"
   ]
  },
  {
   "cell_type": "code",
   "execution_count": 24,
   "id": "b274583d",
   "metadata": {},
   "outputs": [
    {
     "name": "stdout",
     "output_type": "stream",
     "text": [
      "min = 48.9842747858987\n",
      "max = 151.12768517782484\n",
      "Q1 = 90.5245828193276\n",
      "Q3 = 110.99821037714136\n",
      "IQR = 20.473627557813757\n"
     ]
    }
   ],
   "source": [
    "minn=df.min()\n",
    "maxx=df.max()\n",
    "Q1=np.quantile(df, .25)\n",
    "Q3=np.quantile(df, .75)\n",
    "IQR=Q3-Q1\n",
    "\n",
    "print(\"min = {}\".format(minn))\n",
    "print(\"max = {}\".format(maxx))\n",
    "print(\"Q1 = {}\".format(Q1))\n",
    "print(\"Q3 = {}\".format(Q3))\n",
    "print(\"IQR = {}\".format(IQR))"
   ]
  },
  {
   "cell_type": "code",
   "execution_count": null,
   "id": "eb83f30e",
   "metadata": {},
   "outputs": [],
   "source": [
    "# Compute the variance and standard deviation"
   ]
  },
  {
   "cell_type": "code",
   "execution_count": 31,
   "id": "ef8faefb",
   "metadata": {},
   "outputs": [
    {
     "name": "stdout",
     "output_type": "stream",
     "text": [
      "var = 234.22306881337042\n",
      "std = 15.304348036207568\n"
     ]
    }
   ],
   "source": [
    "print(\"var =\", np.var(df))\n",
    "print(\"std =\", np.std(df))"
   ]
  },
  {
   "cell_type": "code",
   "execution_count": null,
   "id": "c533d133",
   "metadata": {},
   "outputs": [],
   "source": [
    "# Compute the skewnes and kurtosis"
   ]
  },
  {
   "cell_type": "code",
   "execution_count": 28,
   "id": "97602fa1",
   "metadata": {},
   "outputs": [
    {
     "name": "stdout",
     "output_type": "stream",
     "text": [
      "skew :  -0.0013843974023419739\n",
      "kurtosis :  -0.0011041812593122202\n"
     ]
    }
   ],
   "source": [
    "print(\"skew : \", skew(df))\n",
    "print(\"kurtosis : \", kurtosis(df))"
   ]
  },
  {
   "cell_type": "code",
   "execution_count": null,
   "id": "987c345b",
   "metadata": {},
   "outputs": [],
   "source": [
    "# Create an array x of integers between 10 (inclusive) and 20 (exclusive). Use np.arrange"
   ]
  },
  {
   "cell_type": "code",
   "execution_count": 32,
   "id": "5ec4e61e",
   "metadata": {},
   "outputs": [
    {
     "data": {
      "text/plain": [
       "array([10, 11, 12, 13, 14, 15, 16, 17, 18, 19])"
      ]
     },
     "execution_count": 32,
     "metadata": {},
     "output_type": "execute_result"
    }
   ],
   "source": [
    "x=np.arange(10,20)\n",
    "x"
   ]
  },
  {
   "cell_type": "code",
   "execution_count": null,
   "id": "dae482a3",
   "metadata": {},
   "outputs": [],
   "source": [
    "# Then use np.array() to create a second array y containing 10 arbitrary integers."
   ]
  },
  {
   "cell_type": "code",
   "execution_count": 33,
   "id": "2487e275",
   "metadata": {},
   "outputs": [
    {
     "data": {
      "text/plain": [
       "array([ 1,  5,  7, 11, 13, 14, 14, 17, 20, 25])"
      ]
     },
     "execution_count": 33,
     "metadata": {},
     "output_type": "execute_result"
    }
   ],
   "source": [
    "y = np.array([1, 5, 7, 11, 13, 14, 14, 17, 20, 25])\n",
    "y"
   ]
  },
  {
   "cell_type": "code",
   "execution_count": null,
   "id": "73c30725",
   "metadata": {},
   "outputs": [],
   "source": [
    "# Once you have two arrays of the same length, you can compute the **correlation coefficient** between x and y"
   ]
  },
  {
   "cell_type": "code",
   "execution_count": 34,
   "id": "fe69c6bf",
   "metadata": {},
   "outputs": [
    {
     "data": {
      "text/plain": [
       "array([[1.        , 0.97991377],\n",
       "       [0.97991377, 1.        ]])"
      ]
     },
     "execution_count": 34,
     "metadata": {},
     "output_type": "execute_result"
    }
   ],
   "source": [
    "np.corrcoef(x, y)"
   ]
  },
  {
   "cell_type": "code",
   "execution_count": null,
   "id": "71b87a30",
   "metadata": {},
   "outputs": [],
   "source": [
    "# Run the code below"
   ]
  },
  {
   "cell_type": "code",
   "execution_count": 35,
   "id": "fe82b705",
   "metadata": {},
   "outputs": [],
   "source": [
    "x = pd.Series(range(10, 20))\n",
    "y = pd.Series([2, 1, 4, 5, 8, 12, 18, 25, 96, 48])"
   ]
  },
  {
   "cell_type": "code",
   "execution_count": null,
   "id": "eef2ba90",
   "metadata": {},
   "outputs": [],
   "source": [
    "# Call the relevant method to calculate Pearson's r correlation"
   ]
  },
  {
   "cell_type": "code",
   "execution_count": 37,
   "id": "e40c7ab2",
   "metadata": {},
   "outputs": [
    {
     "data": {
      "text/plain": [
       "0.7586402890911867"
      ]
     },
     "execution_count": 37,
     "metadata": {},
     "output_type": "execute_result"
    }
   ],
   "source": [
    "x.corr(y)"
   ]
  },
  {
   "cell_type": "code",
   "execution_count": null,
   "id": "2ba1c7f5",
   "metadata": {},
   "outputs": [],
   "source": [
    "# Call the relevant method to calculate Spearman's rho correlation"
   ]
  },
  {
   "cell_type": "code",
   "execution_count": 40,
   "id": "da1ea92a",
   "metadata": {},
   "outputs": [
    {
     "data": {
      "text/plain": [
       "SpearmanrResult(correlation=0.9757575757575757, pvalue=1.4675461874042197e-06)"
      ]
     },
     "execution_count": 40,
     "metadata": {},
     "output_type": "execute_result"
    }
   ],
   "source": [
    "rho=stats.spearmanr(x, y)\n",
    "rho"
   ]
  },
  {
   "cell_type": "code",
   "execution_count": null,
   "id": "ec2612ed",
   "metadata": {},
   "outputs": [],
   "source": [
    "# Import Seaborn Library"
   ]
  },
  {
   "cell_type": "code",
   "execution_count": 43,
   "id": "665e2737",
   "metadata": {},
   "outputs": [],
   "source": [
    "import seaborn as sns"
   ]
  },
  {
   "cell_type": "code",
   "execution_count": null,
   "id": "05202f28",
   "metadata": {},
   "outputs": [],
   "source": [
    "# Load \"tips\" dataset from Seaborn"
   ]
  },
  {
   "cell_type": "code",
   "execution_count": 44,
   "id": "039f588c",
   "metadata": {},
   "outputs": [
    {
     "data": {
      "text/plain": [
       "['anagrams',\n",
       " 'anscombe',\n",
       " 'attention',\n",
       " 'brain_networks',\n",
       " 'car_crashes',\n",
       " 'diamonds',\n",
       " 'dots',\n",
       " 'exercise',\n",
       " 'flights',\n",
       " 'fmri',\n",
       " 'gammas',\n",
       " 'geyser',\n",
       " 'iris',\n",
       " 'mpg',\n",
       " 'penguins',\n",
       " 'planets',\n",
       " 'taxis',\n",
       " 'tips',\n",
       " 'titanic']"
      ]
     },
     "execution_count": 44,
     "metadata": {},
     "output_type": "execute_result"
    }
   ],
   "source": [
    "sns.get_dataset_names()"
   ]
  },
  {
   "cell_type": "code",
   "execution_count": 45,
   "id": "7265af3e",
   "metadata": {},
   "outputs": [],
   "source": [
    "tips=sns.load_dataset(\"tips\")"
   ]
  },
  {
   "cell_type": "code",
   "execution_count": null,
   "id": "00ad5223",
   "metadata": {},
   "outputs": [],
   "source": [
    "# Generate descriptive statistics include those that summarize the central tendency, dispersion"
   ]
  },
  {
   "cell_type": "code",
   "execution_count": 48,
   "id": "4ad7399e",
   "metadata": {},
   "outputs": [
    {
     "data": {
      "text/html": [
       "<div>\n",
       "<style scoped>\n",
       "    .dataframe tbody tr th:only-of-type {\n",
       "        vertical-align: middle;\n",
       "    }\n",
       "\n",
       "    .dataframe tbody tr th {\n",
       "        vertical-align: top;\n",
       "    }\n",
       "\n",
       "    .dataframe thead th {\n",
       "        text-align: right;\n",
       "    }\n",
       "</style>\n",
       "<table border=\"1\" class=\"dataframe\">\n",
       "  <thead>\n",
       "    <tr style=\"text-align: right;\">\n",
       "      <th></th>\n",
       "      <th>total_bill</th>\n",
       "      <th>tip</th>\n",
       "      <th>size</th>\n",
       "    </tr>\n",
       "  </thead>\n",
       "  <tbody>\n",
       "    <tr>\n",
       "      <th>count</th>\n",
       "      <td>244.000000</td>\n",
       "      <td>244.000000</td>\n",
       "      <td>244.000000</td>\n",
       "    </tr>\n",
       "    <tr>\n",
       "      <th>mean</th>\n",
       "      <td>19.785943</td>\n",
       "      <td>2.998279</td>\n",
       "      <td>2.569672</td>\n",
       "    </tr>\n",
       "    <tr>\n",
       "      <th>std</th>\n",
       "      <td>8.902412</td>\n",
       "      <td>1.383638</td>\n",
       "      <td>0.951100</td>\n",
       "    </tr>\n",
       "    <tr>\n",
       "      <th>min</th>\n",
       "      <td>3.070000</td>\n",
       "      <td>1.000000</td>\n",
       "      <td>1.000000</td>\n",
       "    </tr>\n",
       "    <tr>\n",
       "      <th>25%</th>\n",
       "      <td>13.347500</td>\n",
       "      <td>2.000000</td>\n",
       "      <td>2.000000</td>\n",
       "    </tr>\n",
       "    <tr>\n",
       "      <th>50%</th>\n",
       "      <td>17.795000</td>\n",
       "      <td>2.900000</td>\n",
       "      <td>2.000000</td>\n",
       "    </tr>\n",
       "    <tr>\n",
       "      <th>75%</th>\n",
       "      <td>24.127500</td>\n",
       "      <td>3.562500</td>\n",
       "      <td>3.000000</td>\n",
       "    </tr>\n",
       "    <tr>\n",
       "      <th>max</th>\n",
       "      <td>50.810000</td>\n",
       "      <td>10.000000</td>\n",
       "      <td>6.000000</td>\n",
       "    </tr>\n",
       "  </tbody>\n",
       "</table>\n",
       "</div>"
      ],
      "text/plain": [
       "       total_bill         tip        size\n",
       "count  244.000000  244.000000  244.000000\n",
       "mean    19.785943    2.998279    2.569672\n",
       "std      8.902412    1.383638    0.951100\n",
       "min      3.070000    1.000000    1.000000\n",
       "25%     13.347500    2.000000    2.000000\n",
       "50%     17.795000    2.900000    2.000000\n",
       "75%     24.127500    3.562500    3.000000\n",
       "max     50.810000   10.000000    6.000000"
      ]
     },
     "execution_count": 48,
     "metadata": {},
     "output_type": "execute_result"
    }
   ],
   "source": [
    "tips.describe()"
   ]
  },
  {
   "cell_type": "code",
   "execution_count": null,
   "id": "fc48bce4",
   "metadata": {},
   "outputs": [],
   "source": [
    "# Call the relevant method to calculate pairwise Pearson's r correlation of "
   ]
  },
  {
   "cell_type": "code",
   "execution_count": 49,
   "id": "4cf22afe",
   "metadata": {},
   "outputs": [
    {
     "data": {
      "text/html": [
       "<div>\n",
       "<style scoped>\n",
       "    .dataframe tbody tr th:only-of-type {\n",
       "        vertical-align: middle;\n",
       "    }\n",
       "\n",
       "    .dataframe tbody tr th {\n",
       "        vertical-align: top;\n",
       "    }\n",
       "\n",
       "    .dataframe thead th {\n",
       "        text-align: right;\n",
       "    }\n",
       "</style>\n",
       "<table border=\"1\" class=\"dataframe\">\n",
       "  <thead>\n",
       "    <tr style=\"text-align: right;\">\n",
       "      <th></th>\n",
       "      <th>total_bill</th>\n",
       "      <th>tip</th>\n",
       "      <th>size</th>\n",
       "    </tr>\n",
       "  </thead>\n",
       "  <tbody>\n",
       "    <tr>\n",
       "      <th>total_bill</th>\n",
       "      <td>1.000000</td>\n",
       "      <td>0.675734</td>\n",
       "      <td>0.598315</td>\n",
       "    </tr>\n",
       "    <tr>\n",
       "      <th>tip</th>\n",
       "      <td>0.675734</td>\n",
       "      <td>1.000000</td>\n",
       "      <td>0.489299</td>\n",
       "    </tr>\n",
       "    <tr>\n",
       "      <th>size</th>\n",
       "      <td>0.598315</td>\n",
       "      <td>0.489299</td>\n",
       "      <td>1.000000</td>\n",
       "    </tr>\n",
       "  </tbody>\n",
       "</table>\n",
       "</div>"
      ],
      "text/plain": [
       "            total_bill       tip      size\n",
       "total_bill    1.000000  0.675734  0.598315\n",
       "tip           0.675734  1.000000  0.489299\n",
       "size          0.598315  0.489299  1.000000"
      ]
     },
     "execution_count": 49,
     "metadata": {},
     "output_type": "execute_result"
    }
   ],
   "source": [
    "tips.corr()"
   ]
  },
  {
   "cell_type": "code",
   "execution_count": null,
   "id": "e538eb1e",
   "metadata": {},
   "outputs": [],
   "source": []
  }
 ],
 "metadata": {
  "kernelspec": {
   "display_name": "Python 3",
   "language": "python",
   "name": "python3"
  },
  "language_info": {
   "codemirror_mode": {
    "name": "ipython",
    "version": 3
   },
   "file_extension": ".py",
   "mimetype": "text/x-python",
   "name": "python",
   "nbconvert_exporter": "python",
   "pygments_lexer": "ipython3",
   "version": "3.8.8"
  }
 },
 "nbformat": 4,
 "nbformat_minor": 5
}
