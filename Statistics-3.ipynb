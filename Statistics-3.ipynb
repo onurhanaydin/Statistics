{
 "cells": [
  {
   "cell_type": "code",
   "execution_count": 1,
   "id": "a9bad8e8",
   "metadata": {},
   "outputs": [],
   "source": [
    "%matplotlib inline\n",
    "import numpy as np\n",
    "import pandas as pd\n",
    "import matplotlib.pyplot as plt\n",
    "from scipy import stats"
   ]
  },
  {
   "cell_type": "markdown",
   "id": "3b094c0f",
   "metadata": {},
   "source": [
    "# Law of Large Numbers"
   ]
  },
  {
   "cell_type": "code",
   "execution_count": 5,
   "id": "204470cd",
   "metadata": {},
   "outputs": [],
   "source": [
    "n=10000"
   ]
  },
  {
   "cell_type": "code",
   "execution_count": 7,
   "id": "85319b40",
   "metadata": {},
   "outputs": [],
   "source": [
    "np.random.seed(51)\n",
    "die_1=np.random.randint(1,7,size=n)"
   ]
  },
  {
   "cell_type": "code",
   "execution_count": 8,
   "id": "2239096d",
   "metadata": {},
   "outputs": [],
   "source": [
    "np.random.seed(81)\n",
    "die_2=np.random.randint(1,7,size=n)"
   ]
  },
  {
   "cell_type": "code",
   "execution_count": 9,
   "id": "960422d2",
   "metadata": {},
   "outputs": [
    {
     "data": {
      "text/plain": [
       "array([6, 8, 2, ..., 4, 7, 9])"
      ]
     },
     "execution_count": 9,
     "metadata": {},
     "output_type": "execute_result"
    }
   ],
   "source": [
    "X=die_1+die_2\n",
    "X"
   ]
  },
  {
   "cell_type": "code",
   "execution_count": 10,
   "id": "09452b94",
   "metadata": {},
   "outputs": [
    {
     "data": {
      "text/html": [
       "<div>\n",
       "<style scoped>\n",
       "    .dataframe tbody tr th:only-of-type {\n",
       "        vertical-align: middle;\n",
       "    }\n",
       "\n",
       "    .dataframe tbody tr th {\n",
       "        vertical-align: top;\n",
       "    }\n",
       "\n",
       "    .dataframe thead th {\n",
       "        text-align: right;\n",
       "    }\n",
       "</style>\n",
       "<table border=\"1\" class=\"dataframe\">\n",
       "  <thead>\n",
       "    <tr style=\"text-align: right;\">\n",
       "      <th></th>\n",
       "      <th>die_1</th>\n",
       "      <th>die_2</th>\n",
       "      <th>X</th>\n",
       "    </tr>\n",
       "  </thead>\n",
       "  <tbody>\n",
       "    <tr>\n",
       "      <th>0</th>\n",
       "      <td>2</td>\n",
       "      <td>4</td>\n",
       "      <td>6</td>\n",
       "    </tr>\n",
       "    <tr>\n",
       "      <th>1</th>\n",
       "      <td>6</td>\n",
       "      <td>2</td>\n",
       "      <td>8</td>\n",
       "    </tr>\n",
       "    <tr>\n",
       "      <th>2</th>\n",
       "      <td>1</td>\n",
       "      <td>1</td>\n",
       "      <td>2</td>\n",
       "    </tr>\n",
       "    <tr>\n",
       "      <th>3</th>\n",
       "      <td>2</td>\n",
       "      <td>4</td>\n",
       "      <td>6</td>\n",
       "    </tr>\n",
       "    <tr>\n",
       "      <th>4</th>\n",
       "      <td>6</td>\n",
       "      <td>4</td>\n",
       "      <td>10</td>\n",
       "    </tr>\n",
       "    <tr>\n",
       "      <th>5</th>\n",
       "      <td>1</td>\n",
       "      <td>4</td>\n",
       "      <td>5</td>\n",
       "    </tr>\n",
       "    <tr>\n",
       "      <th>6</th>\n",
       "      <td>6</td>\n",
       "      <td>2</td>\n",
       "      <td>8</td>\n",
       "    </tr>\n",
       "    <tr>\n",
       "      <th>7</th>\n",
       "      <td>5</td>\n",
       "      <td>2</td>\n",
       "      <td>7</td>\n",
       "    </tr>\n",
       "    <tr>\n",
       "      <th>8</th>\n",
       "      <td>2</td>\n",
       "      <td>6</td>\n",
       "      <td>8</td>\n",
       "    </tr>\n",
       "    <tr>\n",
       "      <th>9</th>\n",
       "      <td>6</td>\n",
       "      <td>3</td>\n",
       "      <td>9</td>\n",
       "    </tr>\n",
       "  </tbody>\n",
       "</table>\n",
       "</div>"
      ],
      "text/plain": [
       "   die_1  die_2   X\n",
       "0      2      4   6\n",
       "1      6      2   8\n",
       "2      1      1   2\n",
       "3      2      4   6\n",
       "4      6      4  10\n",
       "5      1      4   5\n",
       "6      6      2   8\n",
       "7      5      2   7\n",
       "8      2      6   8\n",
       "9      6      3   9"
      ]
     },
     "execution_count": 10,
     "metadata": {},
     "output_type": "execute_result"
    }
   ],
   "source": [
    "df=pd.DataFrame({\"die_1\":die_1,\"die_2\":die_2,\"X\":X})\n",
    "df.head(10)"
   ]
  },
  {
   "cell_type": "code",
   "execution_count": 12,
   "id": "7b9d1406",
   "metadata": {},
   "outputs": [
    {
     "data": {
      "text/plain": [
       "874"
      ]
     },
     "execution_count": 12,
     "metadata": {},
     "output_type": "execute_result"
    }
   ],
   "source": [
    "total_four=df[df.X==4]\n",
    "len(total_four)"
   ]
  },
  {
   "cell_type": "code",
   "execution_count": 14,
   "id": "0ef4b00b",
   "metadata": {},
   "outputs": [
    {
     "data": {
      "text/plain": [
       "0.0874"
      ]
     },
     "execution_count": 14,
     "metadata": {},
     "output_type": "execute_result"
    }
   ],
   "source": [
    "P=len(total_four)/len(df)\n",
    "P"
   ]
  },
  {
   "cell_type": "code",
   "execution_count": 15,
   "id": "dfb266c1",
   "metadata": {},
   "outputs": [
    {
     "data": {
      "text/plain": [
       "7     1688\n",
       "8     1394\n",
       "6     1392\n",
       "5     1147\n",
       "9     1095\n",
       "4      874\n",
       "10     827\n",
       "3      536\n",
       "11     527\n",
       "12     261\n",
       "2      259\n",
       "Name: X, dtype: int64"
      ]
     },
     "execution_count": 15,
     "metadata": {},
     "output_type": "execute_result"
    }
   ],
   "source": [
    "freq=df.X.value_counts()\n",
    "freq"
   ]
  },
  {
   "cell_type": "code",
   "execution_count": 16,
   "id": "c913c135",
   "metadata": {},
   "outputs": [
    {
     "data": {
      "image/png": "[encoded data removed]",
      "text/plain": [
       "<Figure size 432x288 with 1 Axes>"
      ]
     },
     "metadata": {
      "needs_background": "light"
     },
     "output_type": "display_data"
    }
   ],
   "source": [
    "freq.sort_index().plot(kind=\"bar\",grid=True);"
   ]
  },
  {
   "cell_type": "code",
   "execution_count": 17,
   "id": "796ab1a1",
   "metadata": {},
   "outputs": [
    {
     "data": {
      "text/plain": [
       "7     0.1688\n",
       "8     0.1394\n",
       "6     0.1392\n",
       "5     0.1147\n",
       "9     0.1095\n",
       "4     0.0874\n",
       "10    0.0827\n",
       "3     0.0536\n",
       "11    0.0527\n",
       "12    0.0261\n",
       "2     0.0259\n",
       "Name: X, dtype: float64"
      ]
     },
     "execution_count": 17,
     "metadata": {},
     "output_type": "execute_result"
    }
   ],
   "source": [
    "prob=df.X.value_counts()/n\n",
    "prob"
   ]
  },
  {
   "cell_type": "code",
   "execution_count": 18,
   "id": "934d9bd9",
   "metadata": {},
   "outputs": [
    {
     "data": {
      "image/png": "[encoded data removed]",
      "text/plain": [
       "<Figure size 432x288 with 1 Axes>"
      ]
     },
     "metadata": {
      "needs_background": "light"
     },
     "output_type": "display_data"
    }
   ],
   "source": [
    "prob.sort_index().plot(kind=\"bar\",grid=True);"
   ]
  },
  {
   "cell_type": "markdown",
   "id": "ca350326",
   "metadata": {},
   "source": [
    "# Binomial Distribution"
   ]
  },
  {
   "cell_type": "markdown",
   "id": "46517287",
   "metadata": {},
   "source": [
    "# \n",
    "Exercise\n",
    "\n",
    "The probability that a patient recovers from a stomach disease is 0.8.\n",
    "Suppose 20 people are known to have contracted this disease.\n",
    "What is the probability that\n",
    "\n",
    "a. exactly 14 recover?"
   ]
  },
  {
   "cell_type": "code",
   "execution_count": 19,
   "id": "2eda1f8e",
   "metadata": {},
   "outputs": [],
   "source": [
    "n=20\n",
    "p=0.8\n",
    "x=14"
   ]
  },
  {
   "cell_type": "code",
   "execution_count": 21,
   "id": "18c359dc",
   "metadata": {},
   "outputs": [
    {
     "data": {
      "text/plain": [
       "0.10909970097304983"
      ]
     },
     "execution_count": 21,
     "metadata": {},
     "output_type": "execute_result"
    }
   ],
   "source": [
    "stats.binom.pmf(x,n,p) # probability mass function"
   ]
  },
  {
   "cell_type": "markdown",
   "id": "074ec3fa",
   "metadata": {},
   "source": [
    "# \n",
    "b. at least 10 recover?"
   ]
  },
  {
   "cell_type": "code",
   "execution_count": 24,
   "id": "2ba4a4ac",
   "metadata": {},
   "outputs": [],
   "source": [
    "x=10"
   ]
  },
  {
   "cell_type": "code",
   "execution_count": 26,
   "id": "bb67923c",
   "metadata": {},
   "outputs": [
    {
     "data": {
      "text/plain": [
       "0.0005634136976601897"
      ]
     },
     "execution_count": 26,
     "metadata": {},
     "output_type": "execute_result"
    }
   ],
   "source": [
    "stats.binom.cdf(x-1,n,p) # cumulative distribution function (calculation was made until 9 that's why we used x-1)"
   ]
  },
  {
   "cell_type": "markdown",
   "id": "20ea4da6",
   "metadata": {},
   "source": [
    "# \n",
    "c. at least 14 but not moe than 18 recover?"
   ]
  },
  {
   "cell_type": "code",
   "execution_count": 27,
   "id": "9c56c98e",
   "metadata": {},
   "outputs": [],
   "source": [
    "x1=14\n",
    "x2=18"
   ]
  },
  {
   "cell_type": "code",
   "execution_count": 30,
   "id": "30056e2f",
   "metadata": {},
   "outputs": [
    {
     "data": {
      "text/plain": [
       "0.844132196156189"
      ]
     },
     "execution_count": 30,
     "metadata": {},
     "output_type": "execute_result"
    }
   ],
   "source": [
    "stats.binom.cdf(x2,n,p)-stats.binom.cdf(x1-1,n,p)"
   ]
  },
  {
   "cell_type": "markdown",
   "id": "dc5f44f9",
   "metadata": {},
   "source": [
    "# \n",
    "d. at most 16 recover?"
   ]
  },
  {
   "cell_type": "code",
   "execution_count": 31,
   "id": "80a840af",
   "metadata": {},
   "outputs": [],
   "source": [
    "x=16"
   ]
  },
  {
   "cell_type": "code",
   "execution_count": 32,
   "id": "8753dc77",
   "metadata": {},
   "outputs": [
    {
     "data": {
      "text/plain": [
       "0.5885511380434305"
      ]
     },
     "execution_count": 32,
     "metadata": {},
     "output_type": "execute_result"
    }
   ],
   "source": [
    "stats.binom.cdf(x,n,p)"
   ]
  },
  {
   "cell_type": "markdown",
   "id": "847eeb68",
   "metadata": {},
   "source": [
    "# \n",
    "e. construct discrete probability distribution table and draw a graph"
   ]
  },
  {
   "cell_type": "code",
   "execution_count": 34,
   "id": "b50fac58",
   "metadata": {},
   "outputs": [
    {
     "name": "stdout",
     "output_type": "stream",
     "text": [
      "0\t1.048576000000001e-14\n",
      "1\t8.388607999999975e-13\n",
      "2\t3.187671040000001e-11\n",
      "3\t7.650410495999974e-10\n",
      "4\t1.3005697843199945e-08\n",
      "5\t1.6647293239295892e-07\n",
      "6\t1.664729323929588e-06\n",
      "7\t1.3317834591436803e-05\n",
      "8\t8.656592484433902e-05\n",
      "9\t0.000461684932503141\n",
      "10\t0.002031413703013826\n",
      "11\t0.007386958920050259\n",
      "12\t0.022160876760150803\n",
      "13\t0.0545498504865252\n",
      "14\t0.10909970097304983\n",
      "15\t0.17455952155687976\n",
      "16\t0.21819940194610007\n",
      "17\t0.2053641430080944\n",
      "18\t0.13690942867206304\n",
      "19\t0.05764607523034236\n",
      "20\t0.011529215046068481\n"
     ]
    }
   ],
   "source": [
    "dist=[]\n",
    "\n",
    "for i in range(n+1):\n",
    "    dist.append(stats.binom.pmf(i,n,p))\n",
    "    print(str(i)+\"\\t\"+str(stats.binom.pmf(i,n,p)))"
   ]
  },
  {
   "cell_type": "code",
   "execution_count": 35,
   "id": "ee00670b",
   "metadata": {},
   "outputs": [
    {
     "data": {
      "image/png": "[encoded data removed]",
      "text/plain": [
       "<Figure size 432x288 with 1 Axes>"
      ]
     },
     "metadata": {
      "needs_background": "light"
     },
     "output_type": "display_data"
    }
   ],
   "source": [
    "plt.bar(list(range(n+1)),dist)\n",
    "plt.show;"
   ]
  },
  {
   "cell_type": "code",
   "execution_count": null,
   "id": "97dbc8d2",
   "metadata": {},
   "outputs": [],
   "source": []
  },
  {
   "cell_type": "code",
   "execution_count": null,
   "id": "0be357cf",
   "metadata": {},
   "outputs": [],
   "source": []
  },
  {
   "cell_type": "code",
   "execution_count": null,
   "id": "d94486e6",
   "metadata": {},
   "outputs": [],
   "source": []
  }
 ],
 "metadata": {
  "kernelspec": {
   "display_name": "Python 3",
   "language": "python",
   "name": "python3"
  },
  "language_info": {
   "codemirror_mode": {
    "name": "ipython",
    "version": 3
   },
   "file_extension": ".py",
   "mimetype": "text/x-python",
   "name": "python",
   "nbconvert_exporter": "python",
   "pygments_lexer": "ipython3",
   "version": "3.8.8"
  }
 },
 "nbformat": 4,
 "nbformat_minor": 5
}
