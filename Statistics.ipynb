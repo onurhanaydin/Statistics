{
 "cells": [
  {
   "cell_type": "code",
   "execution_count": 1,
   "id": "7f7f654b",
   "metadata": {},
   "outputs": [],
   "source": [
    "import numpy as np\n",
    "import matplotlib.pyplot as plt\n",
    "import seaborn as sns\n",
    "from scipy import stats\n",
    "%matplotlib inline"
   ]
  },
  {
   "cell_type": "code",
   "execution_count": 2,
   "id": "fbfef4be",
   "metadata": {},
   "outputs": [],
   "source": [
    "# tc_hours vs GPA\n",
    "tv_hours =[3,5,2,0,5,3,1,4,3,4] # list\n",
    "GPA =[2.7,2.1,3.3,3.4,2.0,3.0,3.6,2.8,3.5,2.6]"
   ]
  },
  {
   "cell_type": "code",
   "execution_count": 3,
   "id": "f799e61d",
   "metadata": {},
   "outputs": [],
   "source": [
    "tv_hours=np.array(tv_hours) # array, so it is suitable for calculations\n",
    "GPA=np.array(GPA)"
   ]
  },
  {
   "cell_type": "code",
   "execution_count": 4,
   "id": "0f6b9697",
   "metadata": {},
   "outputs": [
    {
     "data": {
      "text/plain": [
       "array([ 9, 15,  6,  0, 15,  9,  3, 12,  9, 12])"
      ]
     },
     "execution_count": 4,
     "metadata": {},
     "output_type": "execute_result"
    }
   ],
   "source": [
    "tv_hours*3"
   ]
  },
  {
   "cell_type": "code",
   "execution_count": 5,
   "id": "4b1c350a",
   "metadata": {},
   "outputs": [
    {
     "data": {
      "text/plain": [
       "array([[ 1.        , -0.85697808],\n",
       "       [-0.85697808,  1.        ]])"
      ]
     },
     "execution_count": 5,
     "metadata": {},
     "output_type": "execute_result"
    }
   ],
   "source": [
    "np.corrcoef(tv_hours,GPA)"
   ]
  },
  {
   "cell_type": "code",
   "execution_count": 6,
   "id": "8eb97208",
   "metadata": {},
   "outputs": [],
   "source": [
    "# Correlation with Pandas"
   ]
  },
  {
   "cell_type": "code",
   "execution_count": 7,
   "id": "fee55bc4",
   "metadata": {},
   "outputs": [],
   "source": [
    "carcrash=sns.load_dataset(\"car_crashes\")"
   ]
  },
  {
   "cell_type": "code",
   "execution_count": 8,
   "id": "95c93d6a",
   "metadata": {},
   "outputs": [
    {
     "data": {
      "text/html": [
       "<div>\n",
       "<style scoped>\n",
       "    .dataframe tbody tr th:only-of-type {\n",
       "        vertical-align: middle;\n",
       "    }\n",
       "\n",
       "    .dataframe tbody tr th {\n",
       "        vertical-align: top;\n",
       "    }\n",
       "\n",
       "    .dataframe thead th {\n",
       "        text-align: right;\n",
       "    }\n",
       "</style>\n",
       "<table border=\"1\" class=\"dataframe\">\n",
       "  <thead>\n",
       "    <tr style=\"text-align: right;\">\n",
       "      <th></th>\n",
       "      <th>total</th>\n",
       "      <th>speeding</th>\n",
       "      <th>alcohol</th>\n",
       "      <th>not_distracted</th>\n",
       "      <th>no_previous</th>\n",
       "      <th>ins_premium</th>\n",
       "      <th>ins_losses</th>\n",
       "      <th>abbrev</th>\n",
       "    </tr>\n",
       "  </thead>\n",
       "  <tbody>\n",
       "    <tr>\n",
       "      <th>0</th>\n",
       "      <td>18.8</td>\n",
       "      <td>7.332</td>\n",
       "      <td>5.640</td>\n",
       "      <td>18.048</td>\n",
       "      <td>15.040</td>\n",
       "      <td>784.55</td>\n",
       "      <td>145.08</td>\n",
       "      <td>AL</td>\n",
       "    </tr>\n",
       "    <tr>\n",
       "      <th>1</th>\n",
       "      <td>18.1</td>\n",
       "      <td>7.421</td>\n",
       "      <td>4.525</td>\n",
       "      <td>16.290</td>\n",
       "      <td>17.014</td>\n",
       "      <td>1053.48</td>\n",
       "      <td>133.93</td>\n",
       "      <td>AK</td>\n",
       "    </tr>\n",
       "    <tr>\n",
       "      <th>2</th>\n",
       "      <td>18.6</td>\n",
       "      <td>6.510</td>\n",
       "      <td>5.208</td>\n",
       "      <td>15.624</td>\n",
       "      <td>17.856</td>\n",
       "      <td>899.47</td>\n",
       "      <td>110.35</td>\n",
       "      <td>AZ</td>\n",
       "    </tr>\n",
       "    <tr>\n",
       "      <th>3</th>\n",
       "      <td>22.4</td>\n",
       "      <td>4.032</td>\n",
       "      <td>5.824</td>\n",
       "      <td>21.056</td>\n",
       "      <td>21.280</td>\n",
       "      <td>827.34</td>\n",
       "      <td>142.39</td>\n",
       "      <td>AR</td>\n",
       "    </tr>\n",
       "    <tr>\n",
       "      <th>4</th>\n",
       "      <td>12.0</td>\n",
       "      <td>4.200</td>\n",
       "      <td>3.360</td>\n",
       "      <td>10.920</td>\n",
       "      <td>10.680</td>\n",
       "      <td>878.41</td>\n",
       "      <td>165.63</td>\n",
       "      <td>CA</td>\n",
       "    </tr>\n",
       "  </tbody>\n",
       "</table>\n",
       "</div>"
      ],
      "text/plain": [
       "   total  speeding  alcohol  not_distracted  no_previous  ins_premium  \\\n",
       "0   18.8     7.332    5.640          18.048       15.040       784.55   \n",
       "1   18.1     7.421    4.525          16.290       17.014      1053.48   \n",
       "2   18.6     6.510    5.208          15.624       17.856       899.47   \n",
       "3   22.4     4.032    5.824          21.056       21.280       827.34   \n",
       "4   12.0     4.200    3.360          10.920       10.680       878.41   \n",
       "\n",
       "   ins_losses abbrev  \n",
       "0      145.08     AL  \n",
       "1      133.93     AK  \n",
       "2      110.35     AZ  \n",
       "3      142.39     AR  \n",
       "4      165.63     CA  "
      ]
     },
     "execution_count": 8,
     "metadata": {},
     "output_type": "execute_result"
    }
   ],
   "source": [
    "carcrash.head()"
   ]
  },
  {
   "cell_type": "code",
   "execution_count": 9,
   "id": "11ea3f98",
   "metadata": {},
   "outputs": [
    {
     "data": {
      "text/html": [
       "<div>\n",
       "<style scoped>\n",
       "    .dataframe tbody tr th:only-of-type {\n",
       "        vertical-align: middle;\n",
       "    }\n",
       "\n",
       "    .dataframe tbody tr th {\n",
       "        vertical-align: top;\n",
       "    }\n",
       "\n",
       "    .dataframe thead th {\n",
       "        text-align: right;\n",
       "    }\n",
       "</style>\n",
       "<table border=\"1\" class=\"dataframe\">\n",
       "  <thead>\n",
       "    <tr style=\"text-align: right;\">\n",
       "      <th></th>\n",
       "      <th>total</th>\n",
       "      <th>speeding</th>\n",
       "      <th>alcohol</th>\n",
       "      <th>not_distracted</th>\n",
       "      <th>no_previous</th>\n",
       "      <th>ins_premium</th>\n",
       "      <th>ins_losses</th>\n",
       "    </tr>\n",
       "  </thead>\n",
       "  <tbody>\n",
       "    <tr>\n",
       "      <th>count</th>\n",
       "      <td>51.000000</td>\n",
       "      <td>51.000000</td>\n",
       "      <td>51.000000</td>\n",
       "      <td>51.000000</td>\n",
       "      <td>51.000000</td>\n",
       "      <td>51.000000</td>\n",
       "      <td>51.000000</td>\n",
       "    </tr>\n",
       "    <tr>\n",
       "      <th>mean</th>\n",
       "      <td>15.790196</td>\n",
       "      <td>4.998196</td>\n",
       "      <td>4.886784</td>\n",
       "      <td>13.573176</td>\n",
       "      <td>14.004882</td>\n",
       "      <td>886.957647</td>\n",
       "      <td>134.493137</td>\n",
       "    </tr>\n",
       "    <tr>\n",
       "      <th>std</th>\n",
       "      <td>4.122002</td>\n",
       "      <td>2.017747</td>\n",
       "      <td>1.729133</td>\n",
       "      <td>4.508977</td>\n",
       "      <td>3.764672</td>\n",
       "      <td>178.296285</td>\n",
       "      <td>24.835922</td>\n",
       "    </tr>\n",
       "    <tr>\n",
       "      <th>min</th>\n",
       "      <td>5.900000</td>\n",
       "      <td>1.792000</td>\n",
       "      <td>1.593000</td>\n",
       "      <td>1.760000</td>\n",
       "      <td>5.900000</td>\n",
       "      <td>641.960000</td>\n",
       "      <td>82.750000</td>\n",
       "    </tr>\n",
       "    <tr>\n",
       "      <th>25%</th>\n",
       "      <td>12.750000</td>\n",
       "      <td>3.766500</td>\n",
       "      <td>3.894000</td>\n",
       "      <td>10.478000</td>\n",
       "      <td>11.348000</td>\n",
       "      <td>768.430000</td>\n",
       "      <td>114.645000</td>\n",
       "    </tr>\n",
       "    <tr>\n",
       "      <th>50%</th>\n",
       "      <td>15.600000</td>\n",
       "      <td>4.608000</td>\n",
       "      <td>4.554000</td>\n",
       "      <td>13.857000</td>\n",
       "      <td>13.775000</td>\n",
       "      <td>858.970000</td>\n",
       "      <td>136.050000</td>\n",
       "    </tr>\n",
       "    <tr>\n",
       "      <th>75%</th>\n",
       "      <td>18.500000</td>\n",
       "      <td>6.439000</td>\n",
       "      <td>5.604000</td>\n",
       "      <td>16.140000</td>\n",
       "      <td>16.755000</td>\n",
       "      <td>1007.945000</td>\n",
       "      <td>151.870000</td>\n",
       "    </tr>\n",
       "    <tr>\n",
       "      <th>max</th>\n",
       "      <td>23.900000</td>\n",
       "      <td>9.450000</td>\n",
       "      <td>10.038000</td>\n",
       "      <td>23.661000</td>\n",
       "      <td>21.280000</td>\n",
       "      <td>1301.520000</td>\n",
       "      <td>194.780000</td>\n",
       "    </tr>\n",
       "  </tbody>\n",
       "</table>\n",
       "</div>"
      ],
      "text/plain": [
       "           total   speeding    alcohol  not_distracted  no_previous  \\\n",
       "count  51.000000  51.000000  51.000000       51.000000    51.000000   \n",
       "mean   15.790196   4.998196   4.886784       13.573176    14.004882   \n",
       "std     4.122002   2.017747   1.729133        4.508977     3.764672   \n",
       "min     5.900000   1.792000   1.593000        1.760000     5.900000   \n",
       "25%    12.750000   3.766500   3.894000       10.478000    11.348000   \n",
       "50%    15.600000   4.608000   4.554000       13.857000    13.775000   \n",
       "75%    18.500000   6.439000   5.604000       16.140000    16.755000   \n",
       "max    23.900000   9.450000  10.038000       23.661000    21.280000   \n",
       "\n",
       "       ins_premium  ins_losses  \n",
       "count    51.000000   51.000000  \n",
       "mean    886.957647  134.493137  \n",
       "std     178.296285   24.835922  \n",
       "min     641.960000   82.750000  \n",
       "25%     768.430000  114.645000  \n",
       "50%     858.970000  136.050000  \n",
       "75%    1007.945000  151.870000  \n",
       "max    1301.520000  194.780000  "
      ]
     },
     "execution_count": 9,
     "metadata": {},
     "output_type": "execute_result"
    }
   ],
   "source": [
    "carcrash.describe()"
   ]
  },
  {
   "cell_type": "code",
   "execution_count": 10,
   "id": "ce1ce358",
   "metadata": {},
   "outputs": [
    {
     "data": {
      "text/html": [
       "<div>\n",
       "<style scoped>\n",
       "    .dataframe tbody tr th:only-of-type {\n",
       "        vertical-align: middle;\n",
       "    }\n",
       "\n",
       "    .dataframe tbody tr th {\n",
       "        vertical-align: top;\n",
       "    }\n",
       "\n",
       "    .dataframe thead th {\n",
       "        text-align: right;\n",
       "    }\n",
       "</style>\n",
       "<table border=\"1\" class=\"dataframe\">\n",
       "  <thead>\n",
       "    <tr style=\"text-align: right;\">\n",
       "      <th></th>\n",
       "      <th>total</th>\n",
       "      <th>speeding</th>\n",
       "      <th>alcohol</th>\n",
       "      <th>not_distracted</th>\n",
       "      <th>no_previous</th>\n",
       "      <th>ins_premium</th>\n",
       "      <th>ins_losses</th>\n",
       "    </tr>\n",
       "  </thead>\n",
       "  <tbody>\n",
       "    <tr>\n",
       "      <th>total</th>\n",
       "      <td>1.000000</td>\n",
       "      <td>0.611548</td>\n",
       "      <td>0.852613</td>\n",
       "      <td>0.827560</td>\n",
       "      <td>0.956179</td>\n",
       "      <td>-0.199702</td>\n",
       "      <td>-0.036011</td>\n",
       "    </tr>\n",
       "    <tr>\n",
       "      <th>speeding</th>\n",
       "      <td>0.611548</td>\n",
       "      <td>1.000000</td>\n",
       "      <td>0.669719</td>\n",
       "      <td>0.588010</td>\n",
       "      <td>0.571976</td>\n",
       "      <td>-0.077675</td>\n",
       "      <td>-0.065928</td>\n",
       "    </tr>\n",
       "    <tr>\n",
       "      <th>alcohol</th>\n",
       "      <td>0.852613</td>\n",
       "      <td>0.669719</td>\n",
       "      <td>1.000000</td>\n",
       "      <td>0.732816</td>\n",
       "      <td>0.783520</td>\n",
       "      <td>-0.170612</td>\n",
       "      <td>-0.112547</td>\n",
       "    </tr>\n",
       "    <tr>\n",
       "      <th>not_distracted</th>\n",
       "      <td>0.827560</td>\n",
       "      <td>0.588010</td>\n",
       "      <td>0.732816</td>\n",
       "      <td>1.000000</td>\n",
       "      <td>0.747307</td>\n",
       "      <td>-0.174856</td>\n",
       "      <td>-0.075970</td>\n",
       "    </tr>\n",
       "    <tr>\n",
       "      <th>no_previous</th>\n",
       "      <td>0.956179</td>\n",
       "      <td>0.571976</td>\n",
       "      <td>0.783520</td>\n",
       "      <td>0.747307</td>\n",
       "      <td>1.000000</td>\n",
       "      <td>-0.156895</td>\n",
       "      <td>-0.006359</td>\n",
       "    </tr>\n",
       "    <tr>\n",
       "      <th>ins_premium</th>\n",
       "      <td>-0.199702</td>\n",
       "      <td>-0.077675</td>\n",
       "      <td>-0.170612</td>\n",
       "      <td>-0.174856</td>\n",
       "      <td>-0.156895</td>\n",
       "      <td>1.000000</td>\n",
       "      <td>0.623116</td>\n",
       "    </tr>\n",
       "    <tr>\n",
       "      <th>ins_losses</th>\n",
       "      <td>-0.036011</td>\n",
       "      <td>-0.065928</td>\n",
       "      <td>-0.112547</td>\n",
       "      <td>-0.075970</td>\n",
       "      <td>-0.006359</td>\n",
       "      <td>0.623116</td>\n",
       "      <td>1.000000</td>\n",
       "    </tr>\n",
       "  </tbody>\n",
       "</table>\n",
       "</div>"
      ],
      "text/plain": [
       "                   total  speeding   alcohol  not_distracted  no_previous  \\\n",
       "total           1.000000  0.611548  0.852613        0.827560     0.956179   \n",
       "speeding        0.611548  1.000000  0.669719        0.588010     0.571976   \n",
       "alcohol         0.852613  0.669719  1.000000        0.732816     0.783520   \n",
       "not_distracted  0.827560  0.588010  0.732816        1.000000     0.747307   \n",
       "no_previous     0.956179  0.571976  0.783520        0.747307     1.000000   \n",
       "ins_premium    -0.199702 -0.077675 -0.170612       -0.174856    -0.156895   \n",
       "ins_losses     -0.036011 -0.065928 -0.112547       -0.075970    -0.006359   \n",
       "\n",
       "                ins_premium  ins_losses  \n",
       "total             -0.199702   -0.036011  \n",
       "speeding          -0.077675   -0.065928  \n",
       "alcohol           -0.170612   -0.112547  \n",
       "not_distracted    -0.174856   -0.075970  \n",
       "no_previous       -0.156895   -0.006359  \n",
       "ins_premium        1.000000    0.623116  \n",
       "ins_losses         0.623116    1.000000  "
      ]
     },
     "execution_count": 10,
     "metadata": {},
     "output_type": "execute_result"
    }
   ],
   "source": [
    "carcrash.corr() # Pearson"
   ]
  },
  {
   "cell_type": "code",
   "execution_count": 11,
   "id": "a81da580",
   "metadata": {},
   "outputs": [
    {
     "data": {
      "text/plain": [
       "0.9561791745723079"
      ]
     },
     "execution_count": 11,
     "metadata": {},
     "output_type": "execute_result"
    }
   ],
   "source": [
    "carcrash[\"total\"].corr(carcrash[\"no_previous\"])"
   ]
  },
  {
   "cell_type": "code",
   "execution_count": 12,
   "id": "7ada8d71",
   "metadata": {},
   "outputs": [
    {
     "data": {
      "text/html": [
       "<div>\n",
       "<style scoped>\n",
       "    .dataframe tbody tr th:only-of-type {\n",
       "        vertical-align: middle;\n",
       "    }\n",
       "\n",
       "    .dataframe tbody tr th {\n",
       "        vertical-align: top;\n",
       "    }\n",
       "\n",
       "    .dataframe thead th {\n",
       "        text-align: right;\n",
       "    }\n",
       "</style>\n",
       "<table border=\"1\" class=\"dataframe\">\n",
       "  <thead>\n",
       "    <tr style=\"text-align: right;\">\n",
       "      <th></th>\n",
       "      <th>total</th>\n",
       "      <th>speeding</th>\n",
       "      <th>alcohol</th>\n",
       "      <th>not_distracted</th>\n",
       "      <th>no_previous</th>\n",
       "      <th>ins_premium</th>\n",
       "      <th>ins_losses</th>\n",
       "    </tr>\n",
       "  </thead>\n",
       "  <tbody>\n",
       "    <tr>\n",
       "      <th>total</th>\n",
       "      <td>1.000000</td>\n",
       "      <td>0.559365</td>\n",
       "      <td>0.894576</td>\n",
       "      <td>0.877605</td>\n",
       "      <td>0.958206</td>\n",
       "      <td>-0.118070</td>\n",
       "      <td>-0.000045</td>\n",
       "    </tr>\n",
       "    <tr>\n",
       "      <th>speeding</th>\n",
       "      <td>0.559365</td>\n",
       "      <td>1.000000</td>\n",
       "      <td>0.642654</td>\n",
       "      <td>0.562876</td>\n",
       "      <td>0.541699</td>\n",
       "      <td>-0.052128</td>\n",
       "      <td>-0.065341</td>\n",
       "    </tr>\n",
       "    <tr>\n",
       "      <th>alcohol</th>\n",
       "      <td>0.894576</td>\n",
       "      <td>0.642654</td>\n",
       "      <td>1.000000</td>\n",
       "      <td>0.796959</td>\n",
       "      <td>0.856012</td>\n",
       "      <td>-0.122899</td>\n",
       "      <td>0.020679</td>\n",
       "    </tr>\n",
       "    <tr>\n",
       "      <th>not_distracted</th>\n",
       "      <td>0.877605</td>\n",
       "      <td>0.562876</td>\n",
       "      <td>0.796959</td>\n",
       "      <td>1.000000</td>\n",
       "      <td>0.798136</td>\n",
       "      <td>-0.112853</td>\n",
       "      <td>0.015340</td>\n",
       "    </tr>\n",
       "    <tr>\n",
       "      <th>no_previous</th>\n",
       "      <td>0.958206</td>\n",
       "      <td>0.541699</td>\n",
       "      <td>0.856012</td>\n",
       "      <td>0.798136</td>\n",
       "      <td>1.000000</td>\n",
       "      <td>-0.036969</td>\n",
       "      <td>0.003937</td>\n",
       "    </tr>\n",
       "    <tr>\n",
       "      <th>ins_premium</th>\n",
       "      <td>-0.118070</td>\n",
       "      <td>-0.052128</td>\n",
       "      <td>-0.122899</td>\n",
       "      <td>-0.112853</td>\n",
       "      <td>-0.036969</td>\n",
       "      <td>1.000000</td>\n",
       "      <td>0.646697</td>\n",
       "    </tr>\n",
       "    <tr>\n",
       "      <th>ins_losses</th>\n",
       "      <td>-0.000045</td>\n",
       "      <td>-0.065341</td>\n",
       "      <td>0.020679</td>\n",
       "      <td>0.015340</td>\n",
       "      <td>0.003937</td>\n",
       "      <td>0.646697</td>\n",
       "      <td>1.000000</td>\n",
       "    </tr>\n",
       "  </tbody>\n",
       "</table>\n",
       "</div>"
      ],
      "text/plain": [
       "                   total  speeding   alcohol  not_distracted  no_previous  \\\n",
       "total           1.000000  0.559365  0.894576        0.877605     0.958206   \n",
       "speeding        0.559365  1.000000  0.642654        0.562876     0.541699   \n",
       "alcohol         0.894576  0.642654  1.000000        0.796959     0.856012   \n",
       "not_distracted  0.877605  0.562876  0.796959        1.000000     0.798136   \n",
       "no_previous     0.958206  0.541699  0.856012        0.798136     1.000000   \n",
       "ins_premium    -0.118070 -0.052128 -0.122899       -0.112853    -0.036969   \n",
       "ins_losses     -0.000045 -0.065341  0.020679        0.015340     0.003937   \n",
       "\n",
       "                ins_premium  ins_losses  \n",
       "total             -0.118070   -0.000045  \n",
       "speeding          -0.052128   -0.065341  \n",
       "alcohol           -0.122899    0.020679  \n",
       "not_distracted    -0.112853    0.015340  \n",
       "no_previous       -0.036969    0.003937  \n",
       "ins_premium        1.000000    0.646697  \n",
       "ins_losses         0.646697    1.000000  "
      ]
     },
     "execution_count": 12,
     "metadata": {},
     "output_type": "execute_result"
    }
   ],
   "source": [
    "carcrash.corr(method=\"spearman\")"
   ]
  },
  {
   "cell_type": "code",
   "execution_count": 13,
   "id": "4cbfa3c6",
   "metadata": {},
   "outputs": [],
   "source": [
    "# Descriptive Statistics"
   ]
  },
  {
   "cell_type": "code",
   "execution_count": 14,
   "id": "ae492280",
   "metadata": {},
   "outputs": [],
   "source": [
    "df=sns.load_dataset(\"titanic\")"
   ]
  },
  {
   "cell_type": "code",
   "execution_count": 15,
   "id": "13513137",
   "metadata": {},
   "outputs": [
    {
     "data": {
      "text/html": [
       "<div>\n",
       "<style scoped>\n",
       "    .dataframe tbody tr th:only-of-type {\n",
       "        vertical-align: middle;\n",
       "    }\n",
       "\n",
       "    .dataframe tbody tr th {\n",
       "        vertical-align: top;\n",
       "    }\n",
       "\n",
       "    .dataframe thead th {\n",
       "        text-align: right;\n",
       "    }\n",
       "</style>\n",
       "<table border=\"1\" class=\"dataframe\">\n",
       "  <thead>\n",
       "    <tr style=\"text-align: right;\">\n",
       "      <th></th>\n",
       "      <th>survived</th>\n",
       "      <th>pclass</th>\n",
       "      <th>sex</th>\n",
       "      <th>age</th>\n",
       "      <th>sibsp</th>\n",
       "      <th>parch</th>\n",
       "      <th>fare</th>\n",
       "      <th>embarked</th>\n",
       "      <th>class</th>\n",
       "      <th>who</th>\n",
       "      <th>adult_male</th>\n",
       "      <th>deck</th>\n",
       "      <th>embark_town</th>\n",
       "      <th>alive</th>\n",
       "      <th>alone</th>\n",
       "    </tr>\n",
       "  </thead>\n",
       "  <tbody>\n",
       "    <tr>\n",
       "      <th>0</th>\n",
       "      <td>0</td>\n",
       "      <td>3</td>\n",
       "      <td>male</td>\n",
       "      <td>22.0</td>\n",
       "      <td>1</td>\n",
       "      <td>0</td>\n",
       "      <td>7.2500</td>\n",
       "      <td>S</td>\n",
       "      <td>Third</td>\n",
       "      <td>man</td>\n",
       "      <td>True</td>\n",
       "      <td>NaN</td>\n",
       "      <td>Southampton</td>\n",
       "      <td>no</td>\n",
       "      <td>False</td>\n",
       "    </tr>\n",
       "    <tr>\n",
       "      <th>1</th>\n",
       "      <td>1</td>\n",
       "      <td>1</td>\n",
       "      <td>female</td>\n",
       "      <td>38.0</td>\n",
       "      <td>1</td>\n",
       "      <td>0</td>\n",
       "      <td>71.2833</td>\n",
       "      <td>C</td>\n",
       "      <td>First</td>\n",
       "      <td>woman</td>\n",
       "      <td>False</td>\n",
       "      <td>C</td>\n",
       "      <td>Cherbourg</td>\n",
       "      <td>yes</td>\n",
       "      <td>False</td>\n",
       "    </tr>\n",
       "    <tr>\n",
       "      <th>2</th>\n",
       "      <td>1</td>\n",
       "      <td>3</td>\n",
       "      <td>female</td>\n",
       "      <td>26.0</td>\n",
       "      <td>0</td>\n",
       "      <td>0</td>\n",
       "      <td>7.9250</td>\n",
       "      <td>S</td>\n",
       "      <td>Third</td>\n",
       "      <td>woman</td>\n",
       "      <td>False</td>\n",
       "      <td>NaN</td>\n",
       "      <td>Southampton</td>\n",
       "      <td>yes</td>\n",
       "      <td>True</td>\n",
       "    </tr>\n",
       "    <tr>\n",
       "      <th>3</th>\n",
       "      <td>1</td>\n",
       "      <td>1</td>\n",
       "      <td>female</td>\n",
       "      <td>35.0</td>\n",
       "      <td>1</td>\n",
       "      <td>0</td>\n",
       "      <td>53.1000</td>\n",
       "      <td>S</td>\n",
       "      <td>First</td>\n",
       "      <td>woman</td>\n",
       "      <td>False</td>\n",
       "      <td>C</td>\n",
       "      <td>Southampton</td>\n",
       "      <td>yes</td>\n",
       "      <td>False</td>\n",
       "    </tr>\n",
       "    <tr>\n",
       "      <th>4</th>\n",
       "      <td>0</td>\n",
       "      <td>3</td>\n",
       "      <td>male</td>\n",
       "      <td>35.0</td>\n",
       "      <td>0</td>\n",
       "      <td>0</td>\n",
       "      <td>8.0500</td>\n",
       "      <td>S</td>\n",
       "      <td>Third</td>\n",
       "      <td>man</td>\n",
       "      <td>True</td>\n",
       "      <td>NaN</td>\n",
       "      <td>Southampton</td>\n",
       "      <td>no</td>\n",
       "      <td>True</td>\n",
       "    </tr>\n",
       "  </tbody>\n",
       "</table>\n",
       "</div>"
      ],
      "text/plain": [
       "   survived  pclass     sex   age  sibsp  parch     fare embarked  class  \\\n",
       "0         0       3    male  22.0      1      0   7.2500        S  Third   \n",
       "1         1       1  female  38.0      1      0  71.2833        C  First   \n",
       "2         1       3  female  26.0      0      0   7.9250        S  Third   \n",
       "3         1       1  female  35.0      1      0  53.1000        S  First   \n",
       "4         0       3    male  35.0      0      0   8.0500        S  Third   \n",
       "\n",
       "     who  adult_male deck  embark_town alive  alone  \n",
       "0    man        True  NaN  Southampton    no  False  \n",
       "1  woman       False    C    Cherbourg   yes  False  \n",
       "2  woman       False  NaN  Southampton   yes   True  \n",
       "3  woman       False    C  Southampton   yes  False  \n",
       "4    man        True  NaN  Southampton    no   True  "
      ]
     },
     "execution_count": 15,
     "metadata": {},
     "output_type": "execute_result"
    }
   ],
   "source": [
    "df.head()"
   ]
  },
  {
   "cell_type": "code",
   "execution_count": 16,
   "id": "db7f1a71",
   "metadata": {},
   "outputs": [
    {
     "data": {
      "text/plain": [
       "array([  7.25  ,  71.2833,   7.925 ,  53.1   ,   8.05  ,   8.4583,\n",
       "        51.8625,  21.075 ,  11.1333,  30.0708,  16.7   ,  26.55  ,\n",
       "         8.05  ,  31.275 ,   7.8542,  16.    ,  29.125 ,  13.    ,\n",
       "        18.    ,   7.225 ,  26.    ,  13.    ,   8.0292,  35.5   ,\n",
       "        21.075 ,  31.3875,   7.225 , 263.    ,   7.8792,   7.8958,\n",
       "        27.7208, 146.5208,   7.75  ,  10.5   ,  82.1708,  52.    ,\n",
       "         7.2292,   8.05  ,  18.    ,  11.2417,   9.475 ,  21.    ,\n",
       "         7.8958,  41.5792,   7.8792,   8.05  ,  15.5   ,   7.75  ,\n",
       "        21.6792,  17.8   ,  39.6875,   7.8   ,  76.7292,  26.    ,\n",
       "        61.9792,  35.5   ,  10.5   ,   7.2292,  27.75  ,  46.9   ,\n",
       "         7.2292,  80.    ,  83.475 ,  27.9   ,  27.7208,  15.2458,\n",
       "        10.5   ,   8.1583,   7.925 ,   8.6625,  10.5   ,  46.9   ,\n",
       "        73.5   ,  14.4542,  56.4958,   7.65  ,   7.8958,   8.05  ,\n",
       "        29.    ,  12.475 ,   9.    ,   9.5   ,   7.7875,  47.1   ,\n",
       "        10.5   ,  15.85  ,  34.375 ,   8.05  , 263.    ,   8.05  ,\n",
       "         8.05  ,   7.8542,  61.175 ,  20.575 ,   7.25  ,   8.05  ,\n",
       "        34.6542,  63.3583,  23.    ,  26.    ,   7.8958,   7.8958,\n",
       "        77.2875,   8.6542,   7.925 ,   7.8958,   7.65  ,   7.775 ,\n",
       "         7.8958,  24.15  ,  52.    ,  14.4542,   8.05  ,   9.825 ,\n",
       "        14.4583,   7.925 ,   7.75  ,  21.    , 247.5208,  31.275 ,\n",
       "        73.5   ,   8.05  ,  30.0708,  13.    ,  77.2875,  11.2417,\n",
       "         7.75  ,   7.1417,  22.3583,   6.975 ,   7.8958,   7.05  ,\n",
       "        14.5   ,  26.    ,  13.    ,  15.0458,  26.2833,  53.1   ,\n",
       "         9.2167,  79.2   ,  15.2458,   7.75  ,  15.85  ,   6.75  ,\n",
       "        11.5   ,  36.75  ,   7.7958,  34.375 ,  26.    ,  13.    ,\n",
       "        12.525 ,  66.6   ,   8.05  ,  14.5   ,   7.3125,  61.3792,\n",
       "         7.7333,   8.05  ,   8.6625,  69.55  ,  16.1   ,  15.75  ,\n",
       "         7.775 ,   8.6625,  39.6875,  20.525 ,  55.    ,  27.9   ,\n",
       "        25.925 ,  56.4958,  33.5   ,  29.125 ,  11.1333,   7.925 ,\n",
       "        30.6958,   7.8542,  25.4667,  28.7125,  13.    ,   0.    ,\n",
       "        69.55  ,  15.05  ,  31.3875,  39.    ,  22.025 ,  50.    ,\n",
       "        15.5   ,  26.55  ,  15.5   ,   7.8958,  13.    ,  13.    ,\n",
       "         7.8542,  26.    ,  27.7208, 146.5208,   7.75  ,   8.4042,\n",
       "         7.75  ,  13.    ,   9.5   ,  69.55  ,   6.4958,   7.225 ,\n",
       "         8.05  ,  10.4625,  15.85  ,  18.7875,   7.75  ,  31.    ,\n",
       "         7.05  ,  21.    ,   7.25  ,  13.    ,   7.75  , 113.275 ,\n",
       "         7.925 ,  27.    ,  76.2917,  10.5   ,   8.05  ,  13.    ,\n",
       "         8.05  ,   7.8958,  90.    ,   9.35  ,  10.5   ,   7.25  ,\n",
       "        13.    ,  25.4667,  83.475 ,   7.775 ,  13.5   ,  31.3875,\n",
       "        10.5   ,   7.55  ,  26.    ,  26.25  ,  10.5   ,  12.275 ,\n",
       "        14.4542,  15.5   ,  10.5   ,   7.125 ,   7.225 ,  90.    ,\n",
       "         7.775 ,  14.5   ,  52.5542,  26.    ,   7.25  ,  10.4625,\n",
       "        26.55  ,  16.1   ,  20.2125,  15.2458,  79.2   ,  86.5   ,\n",
       "       512.3292,  26.    ,   7.75  ,  31.3875,  79.65  ,   0.    ,\n",
       "         7.75  ,  10.5   ,  39.6875,   7.775 , 153.4625, 135.6333,\n",
       "        31.    ,   0.    ,  19.5   ,  29.7   ,   7.75  ,  77.9583,\n",
       "         7.75  ,   0.    ,  29.125 ,  20.25  ,   7.75  ,   7.8542,\n",
       "         9.5   ,   8.05  ,  26.    ,   8.6625,   9.5   ,   7.8958,\n",
       "        13.    ,   7.75  ,  78.85  ,  91.0792,  12.875 ,   8.85  ,\n",
       "         7.8958,  27.7208,   7.2292, 151.55  ,  30.5   , 247.5208,\n",
       "         7.75  ,  23.25  ,   0.    ,  12.35  ,   8.05  , 151.55  ,\n",
       "       110.8833, 108.9   ,  24.    ,  56.9292,  83.1583, 262.375 ,\n",
       "        26.    ,   7.8958,  26.25  ,   7.8542,  26.    ,  14.    ,\n",
       "       164.8667, 134.5   ,   7.25  ,   7.8958,  12.35  ,  29.    ,\n",
       "        69.55  , 135.6333,   6.2375,  13.    ,  20.525 ,  57.9792,\n",
       "        23.25  ,  28.5   , 153.4625,  18.    , 133.65  ,   7.8958,\n",
       "        66.6   , 134.5   ,   8.05  ,  35.5   ,  26.    , 263.    ,\n",
       "        13.    ,  13.    ,  13.    ,  13.    ,  13.    ,  16.1   ,\n",
       "        15.9   ,   8.6625,   9.225 ,  35.    ,   7.2292,  17.8   ,\n",
       "         7.225 ,   9.5   ,  55.    ,  13.    ,   7.8792,   7.8792,\n",
       "        27.9   ,  27.7208,  14.4542,   7.05  ,  15.5   ,   7.25  ,\n",
       "        75.25  ,   7.2292,   7.75  ,  69.3   ,  55.4417,   6.4958,\n",
       "         8.05  , 135.6333,  21.075 ,  82.1708,   7.25  , 211.5   ,\n",
       "         4.0125,   7.775 , 227.525 ,  15.7417,   7.925 ,  52.    ,\n",
       "         7.8958,  73.5   ,  46.9   ,  13.    ,   7.7292,  12.    ,\n",
       "       120.    ,   7.7958,   7.925 , 113.275 ,  16.7   ,   7.7958,\n",
       "         7.8542,  26.    ,  10.5   ,  12.65  ,   7.925 ,   8.05  ,\n",
       "         9.825 ,  15.85  ,   8.6625,  21.    ,   7.75  ,  18.75  ,\n",
       "         7.775 ,  25.4667,   7.8958,   6.8583,  90.    ,   0.    ,\n",
       "         7.925 ,   8.05  ,  32.5   ,  13.    ,  13.    ,  24.15  ,\n",
       "         7.8958,   7.7333,   7.875 ,  14.4   ,  20.2125,   7.25  ,\n",
       "        26.    ,  26.    ,   7.75  ,   8.05  ,  26.55  ,  16.1   ,\n",
       "        26.    ,   7.125 ,  55.9   , 120.    ,  34.375 ,  18.75  ,\n",
       "       263.    ,  10.5   ,  26.25  ,   9.5   ,   7.775 ,  13.    ,\n",
       "         8.1125,  81.8583,  19.5   ,  26.55  ,  19.2583,  30.5   ,\n",
       "        27.75  ,  19.9667,  27.75  ,  89.1042,   8.05  ,   7.8958,\n",
       "        26.55  ,  51.8625,  10.5   ,   7.75  ,  26.55  ,   8.05  ,\n",
       "        38.5   ,  13.    ,   8.05  ,   7.05  ,   0.    ,  26.55  ,\n",
       "         7.725 ,  19.2583,   7.25  ,   8.6625,  27.75  ,  13.7917,\n",
       "         9.8375,  52.    ,  21.    ,   7.0458,   7.5208,  12.2875,\n",
       "        46.9   ,   0.    ,   8.05  ,   9.5875,  91.0792,  25.4667,\n",
       "        90.    ,  29.7   ,   8.05  ,  15.9   ,  19.9667,   7.25  ,\n",
       "        30.5   ,  49.5042,   8.05  ,  14.4583,  78.2667,  15.1   ,\n",
       "       151.55  ,   7.7958,   8.6625,   7.75  ,   7.6292,   9.5875,\n",
       "        86.5   , 108.9   ,  26.    ,  26.55  ,  22.525 ,  56.4958,\n",
       "         7.75  ,   8.05  ,  26.2875,  59.4   ,   7.4958,  34.0208,\n",
       "        10.5   ,  24.15  ,  26.    ,   7.8958,  93.5   ,   7.8958,\n",
       "         7.225 ,  57.9792,   7.2292,   7.75  ,  10.5   , 221.7792,\n",
       "         7.925 ,  11.5   ,  26.    ,   7.2292,   7.2292,  22.3583,\n",
       "         8.6625,  26.25  ,  26.55  , 106.425 ,  14.5   ,  49.5   ,\n",
       "        71.    ,  31.275 ,  31.275 ,  26.    , 106.425 ,  26.    ,\n",
       "        26.    ,  13.8625,  20.525 ,  36.75  , 110.8833,  26.    ,\n",
       "         7.8292,   7.225 ,   7.775 ,  26.55  ,  39.6   , 227.525 ,\n",
       "        79.65  ,  17.4   ,   7.75  ,   7.8958,  13.5   ,   8.05  ,\n",
       "         8.05  ,  24.15  ,   7.8958,  21.075 ,   7.2292,   7.8542,\n",
       "        10.5   ,  51.4792,  26.3875,   7.75  ,   8.05  ,  14.5   ,\n",
       "        13.    ,  55.9   ,  14.4583,   7.925 ,  30.    , 110.8833,\n",
       "        26.    ,  40.125 ,   8.7125,  79.65  ,  15.    ,  79.2   ,\n",
       "         8.05  ,   8.05  ,   7.125 ,  78.2667,   7.25  ,   7.75  ,\n",
       "        26.    ,  24.15  ,  33.    ,   0.    ,   7.225 ,  56.9292,\n",
       "        27.    ,   7.8958,  42.4   ,   8.05  ,  26.55  ,  15.55  ,\n",
       "         7.8958,  30.5   ,  41.5792, 153.4625,  31.275 ,   7.05  ,\n",
       "        15.5   ,   7.75  ,   8.05  ,  65.    ,  14.4   ,  16.1   ,\n",
       "        39.    ,  10.5   ,  14.4542,  52.5542,  15.7417,   7.8542,\n",
       "        16.1   ,  32.3208,  12.35  ,  77.9583,   7.8958,   7.7333,\n",
       "        30.    ,   7.0542,  30.5   ,   0.    ,  27.9   ,  13.    ,\n",
       "         7.925 ,  26.25  ,  39.6875,  16.1   ,   7.8542,  69.3   ,\n",
       "        27.9   ,  56.4958,  19.2583,  76.7292,   7.8958,  35.5   ,\n",
       "         7.55  ,   7.55  ,   7.8958,  23.    ,   8.4333,   7.8292,\n",
       "         6.75  ,  73.5   ,   7.8958,  15.5   ,  13.    , 113.275 ,\n",
       "       133.65  ,   7.225 ,  25.5875,   7.4958,   7.925 ,  73.5   ,\n",
       "        13.    ,   7.775 ,   8.05  ,  52.    ,  39.    ,  52.    ,\n",
       "        10.5   ,  13.    ,   0.    ,   7.775 ,   8.05  ,   9.8417,\n",
       "        46.9   , 512.3292,   8.1375,  76.7292,   9.225 ,  46.9   ,\n",
       "        39.    ,  41.5792,  39.6875,  10.1708,   7.7958, 211.3375,\n",
       "        57.    ,  13.4167,  56.4958,   7.225 ,  26.55  ,  13.5   ,\n",
       "         8.05  ,   7.7333, 110.8833,   7.65  , 227.525 ,  26.2875,\n",
       "        14.4542,   7.7417,   7.8542,  26.    ,  13.5   ,  26.2875,\n",
       "       151.55  ,  15.2458,  49.5042,  26.55  ,  52.    ,   9.4833,\n",
       "        13.    ,   7.65  , 227.525 ,  10.5   ,  15.5   ,   7.775 ,\n",
       "        33.    ,   7.0542,  13.    ,  13.    ,  53.1   ,   8.6625,\n",
       "        21.    ,   7.7375,  26.    ,   7.925 , 211.3375,  18.7875,\n",
       "         0.    ,  13.    ,  13.    ,  16.1   ,  34.375 , 512.3292,\n",
       "         7.8958,   7.8958,  30.    ,  78.85  , 262.375 ,  16.1   ,\n",
       "         7.925 ,  71.    ,  20.25  ,  13.    ,  53.1   ,   7.75  ,\n",
       "        23.    ,  12.475 ,   9.5   ,   7.8958,  65.    ,  14.5   ,\n",
       "         7.7958,  11.5   ,   8.05  ,  86.5   ,  14.5   ,   7.125 ,\n",
       "         7.2292, 120.    ,   7.775 ,  77.9583,  39.6   ,   7.75  ,\n",
       "        24.15  ,   8.3625,   9.5   ,   7.8542,  10.5   ,   7.225 ,\n",
       "        23.    ,   7.75  ,   7.75  ,  12.475 ,   7.7375, 211.3375,\n",
       "         7.2292,  57.    ,  30.    ,  23.45  ,   7.05  ,   7.25  ,\n",
       "         7.4958,  29.125 ,  20.575 ,  79.2   ,   7.75  ,  26.    ,\n",
       "        69.55  ,  30.6958,   7.8958,  13.    ,  25.9292,   8.6833,\n",
       "         7.2292,  24.15  ,  13.    ,  26.25  , 120.    ,   8.5167,\n",
       "         6.975 ,   7.775 ,   0.    ,   7.775 ,  13.    ,  53.1   ,\n",
       "         7.8875,  24.15  ,  10.5   ,  31.275 ,   8.05  ,   0.    ,\n",
       "         7.925 ,  37.0042,   6.45  ,  27.9   ,  93.5   ,   8.6625,\n",
       "         0.    ,  12.475 ,  39.6875,   6.95  ,  56.4958,  37.0042,\n",
       "         7.75  ,  80.    ,  14.4542,  18.75  ,   7.2292,   7.8542,\n",
       "         8.3   ,  83.1583,   8.6625,   8.05  ,  56.4958,  29.7   ,\n",
       "         7.925 ,  10.5   ,  31.    ,   6.4375,   8.6625,   7.55  ,\n",
       "        69.55  ,   7.8958,  33.    ,  89.1042,  31.275 ,   7.775 ,\n",
       "        15.2458,  39.4   ,  26.    ,   9.35  , 164.8667,  26.55  ,\n",
       "        19.2583,   7.2292,  14.1083,  11.5   ,  25.9292,  69.55  ,\n",
       "        13.    ,  13.    ,  13.8583,  50.4958,   9.5   ,  11.1333,\n",
       "         7.8958,  52.5542,   5.    ,   9.    ,  24.    ,   7.225 ,\n",
       "         9.8458,   7.8958,   7.8958,  83.1583,  26.    ,   7.8958,\n",
       "        10.5167,  10.5   ,   7.05  ,  29.125 ,  13.    ,  30.    ,\n",
       "        23.45  ,  30.    ,   7.75  ])"
      ]
     },
     "execution_count": 16,
     "metadata": {},
     "output_type": "execute_result"
    }
   ],
   "source": [
    "fare=np.array(df[\"fare\"])\n",
    "fare"
   ]
  },
  {
   "cell_type": "code",
   "execution_count": 17,
   "id": "d3b76fcb",
   "metadata": {},
   "outputs": [
    {
     "data": {
      "text/plain": [
       "891"
      ]
     },
     "execution_count": 17,
     "metadata": {},
     "output_type": "execute_result"
    }
   ],
   "source": [
    "len(fare)"
   ]
  },
  {
   "cell_type": "code",
   "execution_count": 18,
   "id": "c52e0db2",
   "metadata": {},
   "outputs": [
    {
     "data": {
      "text/plain": [
       "32.204207968574636"
      ]
     },
     "execution_count": 18,
     "metadata": {},
     "output_type": "execute_result"
    }
   ],
   "source": [
    "np.mean(fare)"
   ]
  },
  {
   "cell_type": "code",
   "execution_count": 19,
   "id": "4f8918ae",
   "metadata": {},
   "outputs": [
    {
     "data": {
      "text/plain": [
       "14.4542"
      ]
     },
     "execution_count": 19,
     "metadata": {},
     "output_type": "execute_result"
    }
   ],
   "source": [
    "np.median(fare)"
   ]
  },
  {
   "cell_type": "code",
   "execution_count": 20,
   "id": "e91282a1",
   "metadata": {},
   "outputs": [
    {
     "data": {
      "text/plain": [
       "4.7792532923723545"
      ]
     },
     "execution_count": 20,
     "metadata": {},
     "output_type": "execute_result"
    }
   ],
   "source": [
    "stats.skew(fare)"
   ]
  },
  {
   "cell_type": "code",
   "execution_count": 21,
   "id": "a704756a",
   "metadata": {},
   "outputs": [
    {
     "data": {
      "image/png": "[encoded data removed]",
      "text/plain": [
       "<Figure size 432x288 with 1 Axes>"
      ]
     },
     "metadata": {
      "needs_background": "light"
     },
     "output_type": "display_data"
    }
   ],
   "source": [
    "plt.hist(fare);"
   ]
  },
  {
   "cell_type": "code",
   "execution_count": 22,
   "id": "71de4b6e",
   "metadata": {},
   "outputs": [
    {
     "data": {
      "image/png": "[encoded data removed]",
      "text/plain": [
       "<Figure size 432x288 with 1 Axes>"
      ]
     },
     "metadata": {
      "needs_background": "light"
     },
     "output_type": "display_data"
    }
   ],
   "source": [
    "plt.boxplot(fare);"
   ]
  },
  {
   "cell_type": "code",
   "execution_count": 23,
   "id": "c1233b8e",
   "metadata": {},
   "outputs": [],
   "source": [
    "boolarr=fare<=200"
   ]
  },
  {
   "cell_type": "code",
   "execution_count": 24,
   "id": "4d1668d6",
   "metadata": {},
   "outputs": [],
   "source": [
    "newfare=fare[boolarr] # do filtering so that to get rid of outliers"
   ]
  },
  {
   "cell_type": "code",
   "execution_count": 25,
   "id": "ede454f5",
   "metadata": {},
   "outputs": [
    {
     "data": {
      "image/png": "[encoded data removed]",
      "text/plain": [
       "<Figure size 432x288 with 1 Axes>"
      ]
     },
     "metadata": {
      "needs_background": "light"
     },
     "output_type": "display_data"
    }
   ],
   "source": [
    "plt.boxplot(newfare);"
   ]
  },
  {
   "cell_type": "code",
   "execution_count": 26,
   "id": "809a40fd",
   "metadata": {},
   "outputs": [
    {
     "data": {
      "image/png": "[encoded data removed]",
      "text/plain": [
       "<Figure size 432x288 with 1 Axes>"
      ]
     },
     "metadata": {
      "needs_background": "light"
     },
     "output_type": "display_data"
    }
   ],
   "source": [
    "plt.hist(newfare);"
   ]
  },
  {
   "cell_type": "code",
   "execution_count": 27,
   "id": "4b5b2bbe",
   "metadata": {},
   "outputs": [
    {
     "data": {
      "image/png": "[encoded data removed]",
      "text/plain": [
       "<Figure size 432x288 with 1 Axes>"
      ]
     },
     "metadata": {
      "needs_background": "light"
     },
     "output_type": "display_data"
    }
   ],
   "source": [
    "sns.kdeplot(newfare);"
   ]
  },
  {
   "cell_type": "code",
   "execution_count": 28,
   "id": "c6fb610f",
   "metadata": {},
   "outputs": [
    {
     "data": {
      "text/plain": [
       "860.5028943449321"
      ]
     },
     "execution_count": 28,
     "metadata": {},
     "output_type": "execute_result"
    }
   ],
   "source": [
    "np.var(newfare)"
   ]
  },
  {
   "cell_type": "code",
   "execution_count": 29,
   "id": "f26b4772",
   "metadata": {},
   "outputs": [
    {
     "data": {
      "text/plain": [
       "29.33432962153613"
      ]
     },
     "execution_count": 29,
     "metadata": {},
     "output_type": "execute_result"
    }
   ],
   "source": [
    "np.std(newfare)"
   ]
  },
  {
   "cell_type": "code",
   "execution_count": 30,
   "id": "d0011380",
   "metadata": {},
   "outputs": [
    {
     "data": {
      "text/plain": [
       "7.8958"
      ]
     },
     "execution_count": 30,
     "metadata": {},
     "output_type": "execute_result"
    }
   ],
   "source": [
    "np.percentile(newfare,25) # Q1"
   ]
  },
  {
   "cell_type": "code",
   "execution_count": 31,
   "id": "065f4b74",
   "metadata": {},
   "outputs": [
    {
     "data": {
      "text/plain": [
       "13.8625"
      ]
     },
     "execution_count": 31,
     "metadata": {},
     "output_type": "execute_result"
    }
   ],
   "source": [
    "np.percentile(newfare,50) # median"
   ]
  },
  {
   "cell_type": "code",
   "execution_count": 32,
   "id": "d77512b8",
   "metadata": {},
   "outputs": [
    {
     "data": {
      "text/plain": [
       "30.0"
      ]
     },
     "execution_count": 32,
     "metadata": {},
     "output_type": "execute_result"
    }
   ],
   "source": [
    "np.percentile(newfare,75) # Q3"
   ]
  },
  {
   "cell_type": "code",
   "execution_count": 33,
   "id": "1a90a535",
   "metadata": {},
   "outputs": [
    {
     "data": {
      "text/plain": [
       "22.1042"
      ]
     },
     "execution_count": 33,
     "metadata": {},
     "output_type": "execute_result"
    }
   ],
   "source": [
    "stats.iqr(newfare) # IQR"
   ]
  },
  {
   "cell_type": "code",
   "execution_count": 34,
   "id": "d2dabadc",
   "metadata": {},
   "outputs": [],
   "source": [
    "# Scatter Plot"
   ]
  },
  {
   "cell_type": "code",
   "execution_count": 35,
   "id": "106c3cf8",
   "metadata": {},
   "outputs": [
    {
     "data": {
      "image/png": "[encoded data removed]",
      "text/plain": [
       "<Figure size 432x288 with 1 Axes>"
      ]
     },
     "metadata": {
      "needs_background": "light"
     },
     "output_type": "display_data"
    }
   ],
   "source": [
    "plt.scatter(tv_hours, GPA);"
   ]
  },
  {
   "cell_type": "code",
   "execution_count": 36,
   "id": "bdaa5180",
   "metadata": {},
   "outputs": [],
   "source": [
    "# Draw a fitting line"
   ]
  },
  {
   "cell_type": "code",
   "execution_count": 37,
   "id": "0db695c6",
   "metadata": {},
   "outputs": [
    {
     "data": {
      "image/png": "[encoded data removed]",
      "text/plain": [
       "<Figure size 432x288 with 1 Axes>"
      ]
     },
     "metadata": {
      "needs_background": "light"
     },
     "output_type": "display_data"
    }
   ],
   "source": [
    "m,b=np.polyfit(tv_hours, GPA,1)\n",
    "plt.plot(tv_hours, GPA,\"o\")\n",
    "plt.plot(tv_hours, m*tv_hours+b);"
   ]
  },
  {
   "cell_type": "code",
   "execution_count": 38,
   "id": "7321c0dd",
   "metadata": {},
   "outputs": [],
   "source": [
    "# SciPy"
   ]
  },
  {
   "cell_type": "code",
   "execution_count": 39,
   "id": "79e56654",
   "metadata": {},
   "outputs": [],
   "source": [
    "r,p=stats.pearsonr(tv_hours, GPA) # r and p value"
   ]
  },
  {
   "cell_type": "code",
   "execution_count": 40,
   "id": "055b1f8b",
   "metadata": {},
   "outputs": [
    {
     "data": {
      "text/plain": [
       "-0.8569780755138501"
      ]
     },
     "execution_count": 40,
     "metadata": {},
     "output_type": "execute_result"
    }
   ],
   "source": [
    "r"
   ]
  },
  {
   "cell_type": "code",
   "execution_count": 41,
   "id": "a2907d4d",
   "metadata": {},
   "outputs": [
    {
     "data": {
      "text/plain": [
       "0.001534743626999713"
      ]
     },
     "execution_count": 41,
     "metadata": {},
     "output_type": "execute_result"
    }
   ],
   "source": [
    "p"
   ]
  },
  {
   "cell_type": "code",
   "execution_count": 42,
   "id": "1a70ac88",
   "metadata": {},
   "outputs": [
    {
     "data": {
      "text/plain": [
       "SpearmanrResult(correlation=-0.8643457510060754, pvalue=0.0012537299375704556)"
      ]
     },
     "execution_count": 42,
     "metadata": {},
     "output_type": "execute_result"
    }
   ],
   "source": [
    "stats.spearmanr(tv_hours, GPA)"
   ]
  },
  {
   "cell_type": "code",
   "execution_count": 43,
   "id": "73eaeb12",
   "metadata": {},
   "outputs": [
    {
     "data": {
      "text/plain": [
       "KendalltauResult(correlation=-0.7542472332656507, pvalue=0.0033968772424454747)"
      ]
     },
     "execution_count": 43,
     "metadata": {},
     "output_type": "execute_result"
    }
   ],
   "source": [
    "stats.kendalltau(tv_hours, GPA)"
   ]
  },
  {
   "cell_type": "code",
   "execution_count": 44,
   "id": "9bfa4a4c",
   "metadata": {},
   "outputs": [],
   "source": [
    "# NumPy"
   ]
  },
  {
   "cell_type": "code",
   "execution_count": 45,
   "id": "782003de",
   "metadata": {},
   "outputs": [
    {
     "data": {
      "text/plain": [
       "array([[ 2.66666667, -0.78888889],\n",
       "       [-0.78888889,  0.31777778]])"
      ]
     },
     "execution_count": 45,
     "metadata": {},
     "output_type": "execute_result"
    }
   ],
   "source": [
    "np.cov(tv_hours, GPA)"
   ]
  },
  {
   "cell_type": "code",
   "execution_count": 46,
   "id": "8f5c2ce1",
   "metadata": {},
   "outputs": [],
   "source": [
    "# Calculate the correlation coefficient with NumPy"
   ]
  },
  {
   "cell_type": "code",
   "execution_count": 47,
   "id": "d2dc834d",
   "metadata": {},
   "outputs": [
    {
     "data": {
      "text/plain": [
       "array([[ 1.        , -0.85697808],\n",
       "       [-0.85697808,  1.        ]])"
      ]
     },
     "execution_count": 47,
     "metadata": {},
     "output_type": "execute_result"
    }
   ],
   "source": [
    "np.corrcoef(tv_hours, GPA)"
   ]
  },
  {
   "cell_type": "code",
   "execution_count": null,
   "id": "638fad66",
   "metadata": {},
   "outputs": [],
   "source": []
  },
  {
   "cell_type": "code",
   "execution_count": null,
   "id": "2b8a1fa9",
   "metadata": {},
   "outputs": [],
   "source": []
  }
 ],
 "metadata": {
  "kernelspec": {
   "display_name": "Python 3",
   "language": "python",
   "name": "python3"
  },
  "language_info": {
   "codemirror_mode": {
    "name": "ipython",
    "version": 3
   },
   "file_extension": ".py",
   "mimetype": "text/x-python",
   "name": "python",
   "nbconvert_exporter": "python",
   "pygments_lexer": "ipython3",
   "version": "3.8.8"
  }
 },
 "nbformat": 4,
 "nbformat_minor": 5
}
